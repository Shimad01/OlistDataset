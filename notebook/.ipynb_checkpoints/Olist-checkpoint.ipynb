{
 "cells": [
  {
   "cell_type": "markdown",
   "id": "e608a20d",
   "metadata": {},
   "source": [
    "# Brazilian E-Commerce Public Dataset by Olist\n",
    "\n",
    "**D3TOP – TÓPICOS EM CIÊNCIAS DE DADOS**<br />\n",
    "Especialização em Ciência de Dados - IFSP Campinas\n",
    "\n",
    "Aluno\n",
    "- Daniel Vargas Shimamoto"
   ]
  },
  {
   "cell_type": "markdown",
   "id": "37974507",
   "metadata": {},
   "source": [
    "# 0. Informações Gerais\n",
    "\n",
    "O dataset [Brazilian E-Commerce Public Dataset by Olist](https://www.kaggle.com/datasets/olistbr/brazilian-ecommerce) feito pela [Olist Store](https://olist.com/pt-br/) é um conjunto de dados públicos de e-commerce brasileiro de 2016 a 2018 que possui informações de 100 mil pedidos feitos em diversos marketplaces no Brasil. Os dados são reais e foram anonimizados e as empresas e parceiros tiveram seus nomes substítuidos pelos nomes das grandes casas de Game of Thrones.\n",
    "\n",
    "A Olist é a maior loja de departamentos dos marketplaces brasileiros, conectando pequenas empresas de todo o Brasil ao consumidor. Os consumidores podem vender seus produtos através da Olist Store e enviá-los diretamente aos clientes usandos os parceiros logísticos da plataforma. Após o cliente adquirir um produto da plataforma, um vendedor é notificado para atender esse pedido. Um pedido pode ter vários itens e cada um desses itens podem ser atendidos por vendedores distintos. Após o recebimento do produto ou o vencimento da data prevista de entrega, o cliente recebe uma pesquisa de satisfação por e-mail, onde pode avaliar a experiência, dando uma nota e anotando um comentário. \n",
    "\n",
    "\n",
    "## 0.1. Objetivo\n",
    "\n",
    "Com base nos comentários recebidos nas pesquisa de satisfação, será testados alguns modelos de PLN (Processamento de Linguagem Natural) para avaliar se é possível prever o sentimento do comentário (Negativo ou Positivo) utlizando modelos supervisionados. Para obter os rótulos dos dados, as notas de avaliação serão transformadas utilizando a metodologia do [CSAT](https://track.co/blog/csat/) mais adotada pelas empresas. Dessa forma, notas 4 e 5 serão consideradas positivas e notas de 1 a 3 negativas.\n",
    "\n",
    "## 0.2. Conhecendo  o dataset\n",
    "\n",
    "O Dataset está dividido em 8 arquivos, que se relacionam conforme o esquema abaixo\n",
    "\n",
    "<div>\n",
    "<img src=\"../images/DataSchema.png\" width=\"600\"/>\n",
    "</div>\n",
    "\n",
    "Fonte: <a href=\"https://www.kaggle.com/datasets/olistbr/brazilian-ecommerce\">Kaggle</a>\n",
    "\n",
    "O principal dataset para esse estudo será o **olist_order_reviews_dataset**, no qual são armazenados os dados das avaliações feitas dos consumidores. Para auxiliar na análise foram utilizados o **olist_order_items_dataset** para verificar os itens das ordens e o **olist_products_dataset** para pegar as informações dos produtos.\n",
    "\n",
    "\n",
    "## 0.2. Atributos\n",
    "\n",
    "#### Olist Order Reviews Dataset\n",
    "- review_id: Identificador exclusivo da revisão.\n",
    "- order_id: Identificador exclusivo da ordem.\n",
    "- review_score: Nota que varia de 1 a 5 dada pelo cleinte em uma pesquisa de satisfação.\n",
    "- review_comment_title: Título do comentário da avaliação deixada pelo cliente.\n",
    "- review_comment_message: Mensagem de comentário da avaliação deixada pelo cliente.\n",
    "- review_creation_date: Data em que a pesquisa de satisfação foi enviada ao cliente.\n",
    "- review_answer_timestamp: Timestamp de resposta da pesquisa de satisfação.\n",
    "\n",
    "#### Olist Order Items Dataset\n",
    "- order_id: Identificador exclusivo da ordem.\n",
    "- order_item_id: Número sequencial que identifica o número de itens incluídos no mesmo pedido.\n",
    "- product_id: Identificador exclusivo do produto.\n",
    "- seller_id: Identificador exclusivo do vendedor.\n",
    "- shipping_limit_date: Mostra a data limite de envio do vendedor para processar o pedido ao parceiro logístico.\n",
    "- price: Preço do item.\n",
    "- freight_value: Valor do frete item (se um pedido tiver mais de um item o valor do frete é dividido entre os itens).\n",
    "\n",
    "#### Olist Products Dataset\n",
    "- product_id: Identificador exclusivo do produto.\n",
    "- product_category_name: Categoria do produto.\n",
    "- product_name_lenght: Número de caracteres extraídos do nome do produto.\n",
    "- product_description_lenght: Número de caracteres extraídos da descrição do produto.\n",
    "- product_photos_qty: Número de fotos publicadas do produto.\n",
    "- product_weight_g: Peso do produto medido em gramas.\n",
    "- product_length_cm: Comprimento do produto medido em centímetros.\n",
    "- product_height_cm: Altura do produto medida em centímetros.\n",
    "- product_width_cm: Largura do produto medida em centímetros.\n",
    " "
   ]
  },
  {
   "cell_type": "markdown",
   "id": "c69f4248",
   "metadata": {},
   "source": [
    "# 1. Importações\n",
    "## 1.1 Bibliotecas Geras"
   ]
  },
  {
   "cell_type": "code",
   "execution_count": 1,
   "id": "e6682e1f",
   "metadata": {},
   "outputs": [],
   "source": [
    "# Bibliotecas Básicas\n",
    "import pandas as pd\n",
    "import numpy as np\n",
    "import re\n",
    "\n",
    "# Pré-processamento\n",
    "import nltk\n",
    "import unidecode # Normalizar\n",
    "from nltk.corpus import stopwords # Stopwords\n",
    "# nltk.download('rslp') # Steammer \n",
    "# nltk.download('stopwords') # Stopwords\n",
    "\n",
    "# Vetorização\n",
    "from sklearn.feature_extraction.text import TfidfVectorizer\n",
    "\n",
    "# Machine Learning\n",
    "from sklearn.model_selection import train_test_split\n",
    "from sklearn.model_selection import GridSearchCV\n",
    "\n",
    "from sklearn.linear_model import LogisticRegression\n",
    "from sklearn.linear_model import SGDClassifier\n",
    "from sklearn.naive_bayes import GaussianNB\n",
    "\n",
    "from sklearn.metrics import classification_report, confusion_matrix, ConfusionMatrixDisplay, accuracy_score\n",
    "\n",
    "# Auxiliares\n",
    "import warnings\n",
    "import time\n",
    "warnings.filterwarnings(\"ignore\")\n",
    "pd.set_option('max_colwidth', 400)"
   ]
  },
  {
   "cell_type": "markdown",
   "id": "4ee50727",
   "metadata": {},
   "source": [
    "## 1.2 Importações dos datasets"
   ]
  },
  {
   "cell_type": "code",
   "execution_count": 2,
   "id": "bfe0f64e",
   "metadata": {},
   "outputs": [
    {
     "data": {
      "text/html": [
       "<div>\n",
       "<style scoped>\n",
       "    .dataframe tbody tr th:only-of-type {\n",
       "        vertical-align: middle;\n",
       "    }\n",
       "\n",
       "    .dataframe tbody tr th {\n",
       "        vertical-align: top;\n",
       "    }\n",
       "\n",
       "    .dataframe thead th {\n",
       "        text-align: right;\n",
       "    }\n",
       "</style>\n",
       "<table border=\"1\" class=\"dataframe\">\n",
       "  <thead>\n",
       "    <tr style=\"text-align: right;\">\n",
       "      <th></th>\n",
       "      <th>review_id</th>\n",
       "      <th>order_id</th>\n",
       "      <th>review_score</th>\n",
       "      <th>review_comment_title</th>\n",
       "      <th>review_comment_message</th>\n",
       "      <th>review_creation_date</th>\n",
       "      <th>review_answer_timestamp</th>\n",
       "    </tr>\n",
       "  </thead>\n",
       "  <tbody>\n",
       "    <tr>\n",
       "      <th>0</th>\n",
       "      <td>7bc2406110b926393aa56f80a40eba40</td>\n",
       "      <td>73fc7af87114b39712e6da79b0a377eb</td>\n",
       "      <td>4</td>\n",
       "      <td>NaN</td>\n",
       "      <td>NaN</td>\n",
       "      <td>2018-01-18 00:00:00</td>\n",
       "      <td>2018-01-18 21:46:59</td>\n",
       "    </tr>\n",
       "    <tr>\n",
       "      <th>1</th>\n",
       "      <td>80e641a11e56f04c1ad469d5645fdfde</td>\n",
       "      <td>a548910a1c6147796b98fdf73dbeba33</td>\n",
       "      <td>5</td>\n",
       "      <td>NaN</td>\n",
       "      <td>NaN</td>\n",
       "      <td>2018-03-10 00:00:00</td>\n",
       "      <td>2018-03-11 03:05:13</td>\n",
       "    </tr>\n",
       "    <tr>\n",
       "      <th>2</th>\n",
       "      <td>228ce5500dc1d8e020d8d1322874b6f0</td>\n",
       "      <td>f9e4b658b201a9f2ecdecbb34bed034b</td>\n",
       "      <td>5</td>\n",
       "      <td>NaN</td>\n",
       "      <td>NaN</td>\n",
       "      <td>2018-02-17 00:00:00</td>\n",
       "      <td>2018-02-18 14:36:24</td>\n",
       "    </tr>\n",
       "  </tbody>\n",
       "</table>\n",
       "</div>"
      ],
      "text/plain": [
       "                          review_id                          order_id  \\\n",
       "0  7bc2406110b926393aa56f80a40eba40  73fc7af87114b39712e6da79b0a377eb   \n",
       "1  80e641a11e56f04c1ad469d5645fdfde  a548910a1c6147796b98fdf73dbeba33   \n",
       "2  228ce5500dc1d8e020d8d1322874b6f0  f9e4b658b201a9f2ecdecbb34bed034b   \n",
       "\n",
       "   review_score review_comment_title review_comment_message  \\\n",
       "0             4                  NaN                    NaN   \n",
       "1             5                  NaN                    NaN   \n",
       "2             5                  NaN                    NaN   \n",
       "\n",
       "  review_creation_date review_answer_timestamp  \n",
       "0  2018-01-18 00:00:00     2018-01-18 21:46:59  \n",
       "1  2018-03-10 00:00:00     2018-03-11 03:05:13  \n",
       "2  2018-02-17 00:00:00     2018-02-18 14:36:24  "
      ]
     },
     "execution_count": 2,
     "metadata": {},
     "output_type": "execute_result"
    }
   ],
   "source": [
    "# Importações dos datasets\n",
    "review  = pd.read_csv('../datasets/olist_order_reviews_dataset.csv')\n",
    "item    = pd.read_csv('../datasets/olist_order_items_dataset.csv')\n",
    "product = pd.read_csv('../datasets/olist_products_dataset.csv')\n",
    "\n",
    "review.head(3)"
   ]
  },
  {
   "cell_type": "code",
   "execution_count": 3,
   "id": "fe7651c1",
   "metadata": {},
   "outputs": [
    {
     "data": {
      "text/html": [
       "<div>\n",
       "<style scoped>\n",
       "    .dataframe tbody tr th:only-of-type {\n",
       "        vertical-align: middle;\n",
       "    }\n",
       "\n",
       "    .dataframe tbody tr th {\n",
       "        vertical-align: top;\n",
       "    }\n",
       "\n",
       "    .dataframe thead th {\n",
       "        text-align: right;\n",
       "    }\n",
       "</style>\n",
       "<table border=\"1\" class=\"dataframe\">\n",
       "  <thead>\n",
       "    <tr style=\"text-align: right;\">\n",
       "      <th></th>\n",
       "      <th>order_id</th>\n",
       "      <th>order_item_id</th>\n",
       "      <th>product_id</th>\n",
       "      <th>seller_id</th>\n",
       "      <th>shipping_limit_date</th>\n",
       "      <th>price</th>\n",
       "      <th>freight_value</th>\n",
       "    </tr>\n",
       "  </thead>\n",
       "  <tbody>\n",
       "    <tr>\n",
       "      <th>0</th>\n",
       "      <td>00010242fe8c5a6d1ba2dd792cb16214</td>\n",
       "      <td>1</td>\n",
       "      <td>4244733e06e7ecb4970a6e2683c13e61</td>\n",
       "      <td>48436dade18ac8b2bce089ec2a041202</td>\n",
       "      <td>2017-09-19 09:45:35</td>\n",
       "      <td>58.9</td>\n",
       "      <td>13.29</td>\n",
       "    </tr>\n",
       "    <tr>\n",
       "      <th>1</th>\n",
       "      <td>00018f77f2f0320c557190d7a144bdd3</td>\n",
       "      <td>1</td>\n",
       "      <td>e5f2d52b802189ee658865ca93d83a8f</td>\n",
       "      <td>dd7ddc04e1b6c2c614352b383efe2d36</td>\n",
       "      <td>2017-05-03 11:05:13</td>\n",
       "      <td>239.9</td>\n",
       "      <td>19.93</td>\n",
       "    </tr>\n",
       "    <tr>\n",
       "      <th>2</th>\n",
       "      <td>000229ec398224ef6ca0657da4fc703e</td>\n",
       "      <td>1</td>\n",
       "      <td>c777355d18b72b67abbeef9df44fd0fd</td>\n",
       "      <td>5b51032eddd242adc84c38acab88f23d</td>\n",
       "      <td>2018-01-18 14:48:30</td>\n",
       "      <td>199.0</td>\n",
       "      <td>17.87</td>\n",
       "    </tr>\n",
       "  </tbody>\n",
       "</table>\n",
       "</div>"
      ],
      "text/plain": [
       "                           order_id  order_item_id  \\\n",
       "0  00010242fe8c5a6d1ba2dd792cb16214              1   \n",
       "1  00018f77f2f0320c557190d7a144bdd3              1   \n",
       "2  000229ec398224ef6ca0657da4fc703e              1   \n",
       "\n",
       "                         product_id                         seller_id  \\\n",
       "0  4244733e06e7ecb4970a6e2683c13e61  48436dade18ac8b2bce089ec2a041202   \n",
       "1  e5f2d52b802189ee658865ca93d83a8f  dd7ddc04e1b6c2c614352b383efe2d36   \n",
       "2  c777355d18b72b67abbeef9df44fd0fd  5b51032eddd242adc84c38acab88f23d   \n",
       "\n",
       "   shipping_limit_date  price  freight_value  \n",
       "0  2017-09-19 09:45:35   58.9          13.29  \n",
       "1  2017-05-03 11:05:13  239.9          19.93  \n",
       "2  2018-01-18 14:48:30  199.0          17.87  "
      ]
     },
     "execution_count": 3,
     "metadata": {},
     "output_type": "execute_result"
    }
   ],
   "source": [
    "item.head(3)"
   ]
  },
  {
   "cell_type": "code",
   "execution_count": 4,
   "id": "2c8d6f2b",
   "metadata": {},
   "outputs": [
    {
     "data": {
      "text/html": [
       "<div>\n",
       "<style scoped>\n",
       "    .dataframe tbody tr th:only-of-type {\n",
       "        vertical-align: middle;\n",
       "    }\n",
       "\n",
       "    .dataframe tbody tr th {\n",
       "        vertical-align: top;\n",
       "    }\n",
       "\n",
       "    .dataframe thead th {\n",
       "        text-align: right;\n",
       "    }\n",
       "</style>\n",
       "<table border=\"1\" class=\"dataframe\">\n",
       "  <thead>\n",
       "    <tr style=\"text-align: right;\">\n",
       "      <th></th>\n",
       "      <th>product_id</th>\n",
       "      <th>product_category_name</th>\n",
       "      <th>product_name_lenght</th>\n",
       "      <th>product_description_lenght</th>\n",
       "      <th>product_photos_qty</th>\n",
       "      <th>product_weight_g</th>\n",
       "      <th>product_length_cm</th>\n",
       "      <th>product_height_cm</th>\n",
       "      <th>product_width_cm</th>\n",
       "    </tr>\n",
       "  </thead>\n",
       "  <tbody>\n",
       "    <tr>\n",
       "      <th>0</th>\n",
       "      <td>1e9e8ef04dbcff4541ed26657ea517e5</td>\n",
       "      <td>perfumaria</td>\n",
       "      <td>40.0</td>\n",
       "      <td>287.0</td>\n",
       "      <td>1.0</td>\n",
       "      <td>225.0</td>\n",
       "      <td>16.0</td>\n",
       "      <td>10.0</td>\n",
       "      <td>14.0</td>\n",
       "    </tr>\n",
       "    <tr>\n",
       "      <th>1</th>\n",
       "      <td>3aa071139cb16b67ca9e5dea641aaa2f</td>\n",
       "      <td>artes</td>\n",
       "      <td>44.0</td>\n",
       "      <td>276.0</td>\n",
       "      <td>1.0</td>\n",
       "      <td>1000.0</td>\n",
       "      <td>30.0</td>\n",
       "      <td>18.0</td>\n",
       "      <td>20.0</td>\n",
       "    </tr>\n",
       "    <tr>\n",
       "      <th>2</th>\n",
       "      <td>96bd76ec8810374ed1b65e291975717f</td>\n",
       "      <td>esporte_lazer</td>\n",
       "      <td>46.0</td>\n",
       "      <td>250.0</td>\n",
       "      <td>1.0</td>\n",
       "      <td>154.0</td>\n",
       "      <td>18.0</td>\n",
       "      <td>9.0</td>\n",
       "      <td>15.0</td>\n",
       "    </tr>\n",
       "  </tbody>\n",
       "</table>\n",
       "</div>"
      ],
      "text/plain": [
       "                         product_id product_category_name  \\\n",
       "0  1e9e8ef04dbcff4541ed26657ea517e5            perfumaria   \n",
       "1  3aa071139cb16b67ca9e5dea641aaa2f                 artes   \n",
       "2  96bd76ec8810374ed1b65e291975717f         esporte_lazer   \n",
       "\n",
       "   product_name_lenght  product_description_lenght  product_photos_qty  \\\n",
       "0                 40.0                       287.0                 1.0   \n",
       "1                 44.0                       276.0                 1.0   \n",
       "2                 46.0                       250.0                 1.0   \n",
       "\n",
       "   product_weight_g  product_length_cm  product_height_cm  product_width_cm  \n",
       "0             225.0               16.0               10.0              14.0  \n",
       "1            1000.0               30.0               18.0              20.0  \n",
       "2             154.0               18.0                9.0              15.0  "
      ]
     },
     "execution_count": 4,
     "metadata": {},
     "output_type": "execute_result"
    }
   ],
   "source": [
    "product.head(3)"
   ]
  },
  {
   "cell_type": "markdown",
   "id": "46cf54cc",
   "metadata": {},
   "source": [
    "### 1.3 Manipulação dos datasets"
   ]
  },
  {
   "cell_type": "code",
   "execution_count": 5,
   "id": "1b6ad4d8",
   "metadata": {},
   "outputs": [
    {
     "name": "stdout",
     "output_type": "stream",
     "text": [
      "<class 'pandas.core.frame.DataFrame'>\n",
      "RangeIndex: 40977 entries, 0 to 40976\n",
      "Data columns (total 7 columns):\n",
      " #   Column                   Non-Null Count  Dtype \n",
      "---  ------                   --------------  ----- \n",
      " 0   review_id                40977 non-null  object\n",
      " 1   order_id                 40977 non-null  object\n",
      " 2   review_score             40977 non-null  int64 \n",
      " 3   review_comment_title     9839 non-null   object\n",
      " 4   review_comment_message   40977 non-null  object\n",
      " 5   review_creation_date     40977 non-null  object\n",
      " 6   review_answer_timestamp  40977 non-null  object\n",
      "dtypes: int64(1), object(6)\n",
      "memory usage: 2.2+ MB\n"
     ]
    }
   ],
   "source": [
    "# Retirando Reviews sem comentários\n",
    "review_pre = review.dropna(subset = ['review_comment_message'])\n",
    "review_pre = review_pre.reset_index(drop=True)\n",
    "review_pre.info()"
   ]
  },
  {
   "cell_type": "code",
   "execution_count": 6,
   "id": "df4815bb",
   "metadata": {},
   "outputs": [
    {
     "data": {
      "text/html": [
       "<div>\n",
       "<style scoped>\n",
       "    .dataframe tbody tr th:only-of-type {\n",
       "        vertical-align: middle;\n",
       "    }\n",
       "\n",
       "    .dataframe tbody tr th {\n",
       "        vertical-align: top;\n",
       "    }\n",
       "\n",
       "    .dataframe thead th {\n",
       "        text-align: right;\n",
       "    }\n",
       "</style>\n",
       "<table border=\"1\" class=\"dataframe\">\n",
       "  <thead>\n",
       "    <tr style=\"text-align: right;\">\n",
       "      <th></th>\n",
       "      <th>review_id</th>\n",
       "      <th>order_id</th>\n",
       "      <th>review_score</th>\n",
       "      <th>review_comment_title</th>\n",
       "      <th>review_comment_message</th>\n",
       "      <th>review_creation_date</th>\n",
       "      <th>review_answer_timestamp</th>\n",
       "      <th>order_item_id</th>\n",
       "      <th>product_id</th>\n",
       "      <th>seller_id</th>\n",
       "      <th>...</th>\n",
       "      <th>price</th>\n",
       "      <th>freight_value</th>\n",
       "      <th>product_category_name</th>\n",
       "      <th>product_name_lenght</th>\n",
       "      <th>product_description_lenght</th>\n",
       "      <th>product_photos_qty</th>\n",
       "      <th>product_weight_g</th>\n",
       "      <th>product_length_cm</th>\n",
       "      <th>product_height_cm</th>\n",
       "      <th>product_width_cm</th>\n",
       "    </tr>\n",
       "  </thead>\n",
       "  <tbody>\n",
       "    <tr>\n",
       "      <th>0</th>\n",
       "      <td>e64fb393e7b32834bb789ff8bb30750e</td>\n",
       "      <td>658677c97b385a9be170737859d3511b</td>\n",
       "      <td>5</td>\n",
       "      <td>NaN</td>\n",
       "      <td>Recebi bem antes do prazo estipulado.</td>\n",
       "      <td>2017-04-21 00:00:00</td>\n",
       "      <td>2017-04-21 22:02:06</td>\n",
       "      <td>1.0</td>\n",
       "      <td>52c80cedd4e90108bf4fa6a206ef6b03</td>\n",
       "      <td>a1043bafd471dff536d0c462352beb48</td>\n",
       "      <td>...</td>\n",
       "      <td>179.99</td>\n",
       "      <td>42.85</td>\n",
       "      <td>ferramentas_jardim</td>\n",
       "      <td>33.0</td>\n",
       "      <td>2188.0</td>\n",
       "      <td>2.0</td>\n",
       "      <td>7650.0</td>\n",
       "      <td>20.0</td>\n",
       "      <td>20.0</td>\n",
       "      <td>20.0</td>\n",
       "    </tr>\n",
       "    <tr>\n",
       "      <th>1</th>\n",
       "      <td>f7c4243c7fe1938f181bec41a392bdeb</td>\n",
       "      <td>8e6bfb81e283fa7e4f11123a3fb894f1</td>\n",
       "      <td>5</td>\n",
       "      <td>NaN</td>\n",
       "      <td>Parabéns lojas lannister adorei comprar pela Internet seguro e prático Parabéns a todos feliz Páscoa</td>\n",
       "      <td>2018-03-01 00:00:00</td>\n",
       "      <td>2018-03-02 10:26:53</td>\n",
       "      <td>1.0</td>\n",
       "      <td>3880d25d502b15b1de6fddc42ad1d67a</td>\n",
       "      <td>989becdce12ebc39863c2bceab6f3ca1</td>\n",
       "      <td>...</td>\n",
       "      <td>1199.00</td>\n",
       "      <td>134.25</td>\n",
       "      <td>esporte_lazer</td>\n",
       "      <td>48.0</td>\n",
       "      <td>562.0</td>\n",
       "      <td>5.0</td>\n",
       "      <td>9850.0</td>\n",
       "      <td>105.0</td>\n",
       "      <td>35.0</td>\n",
       "      <td>50.0</td>\n",
       "    </tr>\n",
       "    <tr>\n",
       "      <th>2</th>\n",
       "      <td>8670d52e15e00043ae7de4c01cc2fe06</td>\n",
       "      <td>b9bf720beb4ab3728760088589c62129</td>\n",
       "      <td>4</td>\n",
       "      <td>recomendo</td>\n",
       "      <td>aparelho eficiente. no site a marca do aparelho esta impresso como 3desinfector e ao chegar esta com outro nome...atualizar com a marca correta uma vez que é o mesmo aparelho</td>\n",
       "      <td>2018-05-22 00:00:00</td>\n",
       "      <td>2018-05-23 16:45:47</td>\n",
       "      <td>1.0</td>\n",
       "      <td>61a4100ccd6d9c4c808a1fd954ddb8ad</td>\n",
       "      <td>05ff92fedb5be47920fea08e501238b9</td>\n",
       "      <td>...</td>\n",
       "      <td>586.56</td>\n",
       "      <td>26.69</td>\n",
       "      <td>eletroportateis</td>\n",
       "      <td>60.0</td>\n",
       "      <td>3839.0</td>\n",
       "      <td>4.0</td>\n",
       "      <td>1450.0</td>\n",
       "      <td>24.0</td>\n",
       "      <td>24.0</td>\n",
       "      <td>24.0</td>\n",
       "    </tr>\n",
       "    <tr>\n",
       "      <th>3</th>\n",
       "      <td>4b49719c8a200003f700d3d986ea1a19</td>\n",
       "      <td>9d6f15f95d01e79bd1349cc208361f09</td>\n",
       "      <td>4</td>\n",
       "      <td>NaN</td>\n",
       "      <td>Mas um pouco ,travando...pelo valor ta Boa.\\r\\n</td>\n",
       "      <td>2018-02-16 00:00:00</td>\n",
       "      <td>2018-02-20 10:52:22</td>\n",
       "      <td>1.0</td>\n",
       "      <td>acffe5d7cd56e6b564cf6841486644ff</td>\n",
       "      <td>db4350fd57ae30082dec7acbaacc17f9</td>\n",
       "      <td>...</td>\n",
       "      <td>35.00</td>\n",
       "      <td>7.78</td>\n",
       "      <td>beleza_saude</td>\n",
       "      <td>58.0</td>\n",
       "      <td>356.0</td>\n",
       "      <td>1.0</td>\n",
       "      <td>200.0</td>\n",
       "      <td>19.0</td>\n",
       "      <td>4.0</td>\n",
       "      <td>11.0</td>\n",
       "    </tr>\n",
       "    <tr>\n",
       "      <th>4</th>\n",
       "      <td>3948b09f7c818e2d86c9a546758b2335</td>\n",
       "      <td>e51478e7e277a83743b6f9991dbfa3fb</td>\n",
       "      <td>5</td>\n",
       "      <td>Super recomendo</td>\n",
       "      <td>Vendedor confiável, produto ok e entrega antes do prazo.</td>\n",
       "      <td>2018-05-23 00:00:00</td>\n",
       "      <td>2018-05-24 03:00:01</td>\n",
       "      <td>1.0</td>\n",
       "      <td>6871a3c157d6f51697e887f3c3598479</td>\n",
       "      <td>974cf2cb8f4b7add98709c30df02fe10</td>\n",
       "      <td>...</td>\n",
       "      <td>89.99</td>\n",
       "      <td>13.07</td>\n",
       "      <td>informatica_acessorios</td>\n",
       "      <td>58.0</td>\n",
       "      <td>1923.0</td>\n",
       "      <td>4.0</td>\n",
       "      <td>850.0</td>\n",
       "      <td>25.0</td>\n",
       "      <td>11.0</td>\n",
       "      <td>15.0</td>\n",
       "    </tr>\n",
       "  </tbody>\n",
       "</table>\n",
       "<p>5 rows × 21 columns</p>\n",
       "</div>"
      ],
      "text/plain": [
       "                          review_id                          order_id  \\\n",
       "0  e64fb393e7b32834bb789ff8bb30750e  658677c97b385a9be170737859d3511b   \n",
       "1  f7c4243c7fe1938f181bec41a392bdeb  8e6bfb81e283fa7e4f11123a3fb894f1   \n",
       "2  8670d52e15e00043ae7de4c01cc2fe06  b9bf720beb4ab3728760088589c62129   \n",
       "3  4b49719c8a200003f700d3d986ea1a19  9d6f15f95d01e79bd1349cc208361f09   \n",
       "4  3948b09f7c818e2d86c9a546758b2335  e51478e7e277a83743b6f9991dbfa3fb   \n",
       "\n",
       "   review_score review_comment_title  \\\n",
       "0             5                  NaN   \n",
       "1             5                  NaN   \n",
       "2             4            recomendo   \n",
       "3             4                  NaN   \n",
       "4             5      Super recomendo   \n",
       "\n",
       "                                                                                                                                                           review_comment_message  \\\n",
       "0                                                                                                                                           Recebi bem antes do prazo estipulado.   \n",
       "1                                                                            Parabéns lojas lannister adorei comprar pela Internet seguro e prático Parabéns a todos feliz Páscoa   \n",
       "2  aparelho eficiente. no site a marca do aparelho esta impresso como 3desinfector e ao chegar esta com outro nome...atualizar com a marca correta uma vez que é o mesmo aparelho   \n",
       "3                                                                                                                                 Mas um pouco ,travando...pelo valor ta Boa.\\r\\n   \n",
       "4                                                                                                                        Vendedor confiável, produto ok e entrega antes do prazo.   \n",
       "\n",
       "  review_creation_date review_answer_timestamp  order_item_id  \\\n",
       "0  2017-04-21 00:00:00     2017-04-21 22:02:06            1.0   \n",
       "1  2018-03-01 00:00:00     2018-03-02 10:26:53            1.0   \n",
       "2  2018-05-22 00:00:00     2018-05-23 16:45:47            1.0   \n",
       "3  2018-02-16 00:00:00     2018-02-20 10:52:22            1.0   \n",
       "4  2018-05-23 00:00:00     2018-05-24 03:00:01            1.0   \n",
       "\n",
       "                         product_id                         seller_id  ...  \\\n",
       "0  52c80cedd4e90108bf4fa6a206ef6b03  a1043bafd471dff536d0c462352beb48  ...   \n",
       "1  3880d25d502b15b1de6fddc42ad1d67a  989becdce12ebc39863c2bceab6f3ca1  ...   \n",
       "2  61a4100ccd6d9c4c808a1fd954ddb8ad  05ff92fedb5be47920fea08e501238b9  ...   \n",
       "3  acffe5d7cd56e6b564cf6841486644ff  db4350fd57ae30082dec7acbaacc17f9  ...   \n",
       "4  6871a3c157d6f51697e887f3c3598479  974cf2cb8f4b7add98709c30df02fe10  ...   \n",
       "\n",
       "     price  freight_value   product_category_name product_name_lenght  \\\n",
       "0   179.99          42.85      ferramentas_jardim                33.0   \n",
       "1  1199.00         134.25           esporte_lazer                48.0   \n",
       "2   586.56          26.69         eletroportateis                60.0   \n",
       "3    35.00           7.78            beleza_saude                58.0   \n",
       "4    89.99          13.07  informatica_acessorios                58.0   \n",
       "\n",
       "   product_description_lenght  product_photos_qty  product_weight_g  \\\n",
       "0                      2188.0                 2.0            7650.0   \n",
       "1                       562.0                 5.0            9850.0   \n",
       "2                      3839.0                 4.0            1450.0   \n",
       "3                       356.0                 1.0             200.0   \n",
       "4                      1923.0                 4.0             850.0   \n",
       "\n",
       "   product_length_cm  product_height_cm  product_width_cm  \n",
       "0               20.0               20.0              20.0  \n",
       "1              105.0               35.0              50.0  \n",
       "2               24.0               24.0              24.0  \n",
       "3               19.0                4.0              11.0  \n",
       "4               25.0               11.0              15.0  \n",
       "\n",
       "[5 rows x 21 columns]"
      ]
     },
     "execution_count": 6,
     "metadata": {},
     "output_type": "execute_result"
    }
   ],
   "source": [
    "# Juntando os datasets\n",
    "df = review_pre.merge(item, how = 'left', on = 'order_id').merge(product, how = 'left', on = 'product_id')\n",
    "df.head()"
   ]
  },
  {
   "cell_type": "code",
   "execution_count": 7,
   "id": "91712c4a",
   "metadata": {},
   "outputs": [
    {
     "name": "stdout",
     "output_type": "stream",
     "text": [
      "Ordens com mesma categoria de produtos: 6830\n",
      "Ordens com mesma categoria de produtos: 0\n"
     ]
    }
   ],
   "source": [
    "# Retirando comentários da mesma ordem do mesmo tipo de produto\n",
    "print(f\"Ordens com mesma categoria de produtos: {len(df[df.duplicated(subset=['order_id','product_category_name'])])}\")\n",
    "df.drop_duplicates(subset = ['order_id','product_category_name'], inplace = True)\n",
    "print(f\"Ordens com mesma categoria de produtos: {len(df[df.duplicated(subset=['order_id','product_category_name'])])}\")"
   ]
  },
  {
   "cell_type": "code",
   "execution_count": 8,
   "id": "94c78999",
   "metadata": {},
   "outputs": [
    {
     "data": {
      "text/html": [
       "<div>\n",
       "<style scoped>\n",
       "    .dataframe tbody tr th:only-of-type {\n",
       "        vertical-align: middle;\n",
       "    }\n",
       "\n",
       "    .dataframe tbody tr th {\n",
       "        vertical-align: top;\n",
       "    }\n",
       "\n",
       "    .dataframe thead th {\n",
       "        text-align: right;\n",
       "    }\n",
       "</style>\n",
       "<table border=\"1\" class=\"dataframe\">\n",
       "  <thead>\n",
       "    <tr style=\"text-align: right;\">\n",
       "      <th></th>\n",
       "      <th>order_id</th>\n",
       "      <th>product_category_name</th>\n",
       "      <th>review_score</th>\n",
       "      <th>review_comment_message</th>\n",
       "    </tr>\n",
       "  </thead>\n",
       "  <tbody>\n",
       "    <tr>\n",
       "      <th>0</th>\n",
       "      <td>658677c97b385a9be170737859d3511b</td>\n",
       "      <td>ferramentas_jardim</td>\n",
       "      <td>5</td>\n",
       "      <td>Recebi bem antes do prazo estipulado.</td>\n",
       "    </tr>\n",
       "    <tr>\n",
       "      <th>1</th>\n",
       "      <td>8e6bfb81e283fa7e4f11123a3fb894f1</td>\n",
       "      <td>esporte_lazer</td>\n",
       "      <td>5</td>\n",
       "      <td>Parabéns lojas lannister adorei comprar pela Internet seguro e prático Parabéns a todos feliz Páscoa</td>\n",
       "    </tr>\n",
       "    <tr>\n",
       "      <th>2</th>\n",
       "      <td>b9bf720beb4ab3728760088589c62129</td>\n",
       "      <td>eletroportateis</td>\n",
       "      <td>4</td>\n",
       "      <td>aparelho eficiente. no site a marca do aparelho esta impresso como 3desinfector e ao chegar esta com outro nome...atualizar com a marca correta uma vez que é o mesmo aparelho</td>\n",
       "    </tr>\n",
       "  </tbody>\n",
       "</table>\n",
       "</div>"
      ],
      "text/plain": [
       "                           order_id product_category_name  review_score  \\\n",
       "0  658677c97b385a9be170737859d3511b    ferramentas_jardim             5   \n",
       "1  8e6bfb81e283fa7e4f11123a3fb894f1         esporte_lazer             5   \n",
       "2  b9bf720beb4ab3728760088589c62129       eletroportateis             4   \n",
       "\n",
       "                                                                                                                                                           review_comment_message  \n",
       "0                                                                                                                                           Recebi bem antes do prazo estipulado.  \n",
       "1                                                                            Parabéns lojas lannister adorei comprar pela Internet seguro e prático Parabéns a todos feliz Páscoa  \n",
       "2  aparelho eficiente. no site a marca do aparelho esta impresso como 3desinfector e ao chegar esta com outro nome...atualizar com a marca correta uma vez que é o mesmo aparelho  "
      ]
     },
     "execution_count": 8,
     "metadata": {},
     "output_type": "execute_result"
    }
   ],
   "source": [
    "# Motando dataset final\n",
    "df_final = df[['order_id','product_category_name','review_score','review_comment_message']]\n",
    "df_final.head(3)"
   ]
  },
  {
   "cell_type": "code",
   "execution_count": 9,
   "id": "7182a203",
   "metadata": {},
   "outputs": [
    {
     "data": {
      "text/html": [
       "<div>\n",
       "<style scoped>\n",
       "    .dataframe tbody tr th:only-of-type {\n",
       "        vertical-align: middle;\n",
       "    }\n",
       "\n",
       "    .dataframe tbody tr th {\n",
       "        vertical-align: top;\n",
       "    }\n",
       "\n",
       "    .dataframe thead th {\n",
       "        text-align: right;\n",
       "    }\n",
       "</style>\n",
       "<table border=\"1\" class=\"dataframe\">\n",
       "  <thead>\n",
       "    <tr style=\"text-align: right;\">\n",
       "      <th></th>\n",
       "      <th>order_id</th>\n",
       "      <th>product_category_name</th>\n",
       "      <th>review_score</th>\n",
       "      <th>review_comment_message</th>\n",
       "      <th>target</th>\n",
       "    </tr>\n",
       "  </thead>\n",
       "  <tbody>\n",
       "    <tr>\n",
       "      <th>0</th>\n",
       "      <td>658677c97b385a9be170737859d3511b</td>\n",
       "      <td>ferramentas_jardim</td>\n",
       "      <td>5</td>\n",
       "      <td>Recebi bem antes do prazo estipulado.</td>\n",
       "      <td>1</td>\n",
       "    </tr>\n",
       "    <tr>\n",
       "      <th>1</th>\n",
       "      <td>8e6bfb81e283fa7e4f11123a3fb894f1</td>\n",
       "      <td>esporte_lazer</td>\n",
       "      <td>5</td>\n",
       "      <td>Parabéns lojas lannister adorei comprar pela Internet seguro e prático Parabéns a todos feliz Páscoa</td>\n",
       "      <td>1</td>\n",
       "    </tr>\n",
       "    <tr>\n",
       "      <th>2</th>\n",
       "      <td>b9bf720beb4ab3728760088589c62129</td>\n",
       "      <td>eletroportateis</td>\n",
       "      <td>4</td>\n",
       "      <td>aparelho eficiente. no site a marca do aparelho esta impresso como 3desinfector e ao chegar esta com outro nome...atualizar com a marca correta uma vez que é o mesmo aparelho</td>\n",
       "      <td>1</td>\n",
       "    </tr>\n",
       "  </tbody>\n",
       "</table>\n",
       "</div>"
      ],
      "text/plain": [
       "                           order_id product_category_name  review_score  \\\n",
       "0  658677c97b385a9be170737859d3511b    ferramentas_jardim             5   \n",
       "1  8e6bfb81e283fa7e4f11123a3fb894f1         esporte_lazer             5   \n",
       "2  b9bf720beb4ab3728760088589c62129       eletroportateis             4   \n",
       "\n",
       "                                                                                                                                                           review_comment_message  \\\n",
       "0                                                                                                                                           Recebi bem antes do prazo estipulado.   \n",
       "1                                                                            Parabéns lojas lannister adorei comprar pela Internet seguro e prático Parabéns a todos feliz Páscoa   \n",
       "2  aparelho eficiente. no site a marca do aparelho esta impresso como 3desinfector e ao chegar esta com outro nome...atualizar com a marca correta uma vez que é o mesmo aparelho   \n",
       "\n",
       "   target  \n",
       "0       1  \n",
       "1       1  \n",
       "2       1  "
      ]
     },
     "execution_count": 9,
     "metadata": {},
     "output_type": "execute_result"
    }
   ],
   "source": [
    "# \"Rotulando\" os dados\n",
    "csat = {1:0,2:0,3:0,4:1,5:1}\n",
    "\n",
    "df_final['target'] = df_final.review_score.map(csat)\n",
    "df_final.head(3)"
   ]
  },
  {
   "cell_type": "code",
   "execution_count": 10,
   "id": "a60f92d5",
   "metadata": {},
   "outputs": [
    {
     "name": "stdout",
     "output_type": "stream",
     "text": [
      "Comentários Negativos: 14748 ~ 35.68%\n",
      "Comentários Positivos: 26588 ~ 64.32%\n"
     ]
    }
   ],
   "source": [
    "# Verificando distribuição dos targets\n",
    "print(f'Comentários Negativos: {df_final.target.value_counts()[0]} ~ {round(100*df_final.target.value_counts()[0] / len(df_final),2)}%')\n",
    "print(f'Comentários Positivos: {df_final.target.value_counts()[1]} ~ {round(100*df_final.target.value_counts()[1] / len(df_final),2)}%')"
   ]
  },
  {
   "cell_type": "code",
   "execution_count": 11,
   "id": "b8faf957",
   "metadata": {},
   "outputs": [
    {
     "name": "stdout",
     "output_type": "stream",
     "text": [
      "Quantidade de análises com comentários: 41336\n"
     ]
    }
   ],
   "source": [
    "# Tamanho do dataset\n",
    "print(f'Quantidade de análises com comentários: {df_final.shape[0]}')"
   ]
  },
  {
   "cell_type": "code",
   "execution_count": 12,
   "id": "1341a340",
   "metadata": {},
   "outputs": [
    {
     "name": "stdout",
     "output_type": "stream",
     "text": [
      "Categorias com mais comentários\n"
     ]
    },
    {
     "data": {
      "text/plain": [
       "cama_mesa_banho    4291\n",
       "beleza_saude       3347\n",
       "esporte_lazer      2955\n",
       "Name: product_category_name, dtype: int64"
      ]
     },
     "execution_count": 12,
     "metadata": {},
     "output_type": "execute_result"
    }
   ],
   "source": [
    "# Verificando quantidade de comentários por categoria de produto\n",
    "print('Categorias com mais comentários')\n",
    "df_final.product_category_name.value_counts().head(3)"
   ]
  },
  {
   "cell_type": "code",
   "execution_count": 13,
   "id": "8a03e2ac",
   "metadata": {},
   "outputs": [
    {
     "name": "stdout",
     "output_type": "stream",
     "text": [
      "Categorias com menos comentários\n"
     ]
    },
    {
     "data": {
      "text/plain": [
       "seguros_e_servicos               2\n",
       "pc_gamer                         2\n",
       "fashion_roupa_infanto_juvenil    1\n",
       "Name: product_category_name, dtype: int64"
      ]
     },
     "execution_count": 13,
     "metadata": {},
     "output_type": "execute_result"
    }
   ],
   "source": [
    "# Verificando quantidade de comentários por categoria de produto\n",
    "print('Categorias com menos comentários')\n",
    "df_final.product_category_name.value_counts().tail(3)"
   ]
  },
  {
   "cell_type": "markdown",
   "id": "b8c49c06",
   "metadata": {},
   "source": [
    "# 2.0 Pré processamento\n",
    "\n",
    "## 2.1 Expressões Regulares\n",
    "Como o dataset possui uma fonte de dados da internet, alguns ruídos podem estar contidos nos comentários. Será utilizada algumas expressões regulares para buscar esses padrões e retirar esse ruído dos dados.\n",
    "Verificações:\n",
    "- Data\n",
    "- Quebra de linha\n",
    "- Dinheiro\n",
    "- Coração"
   ]
  },
  {
   "cell_type": "code",
   "execution_count": 14,
   "id": "ef07d297",
   "metadata": {},
   "outputs": [],
   "source": [
    "# Função para verificar se existe regex nos comentários\n",
    "def verificacao_regex(df, col, regex, nome, retornar=False):\n",
    "    print(f'Comentários com {nome}: {len(df[df[col].str.contains(regex)])}')\n",
    "    if retornar :\n",
    "        return df[df[col].str.contains(regex)]\n",
    "    \n",
    "# Função para substituir regex\n",
    "def sub_regex(df,col, regex, sub):\n",
    "    lista = list(df[col].values)\n",
    "    return [re.sub(regex,sub, comentario) for comentario in lista]"
   ]
  },
  {
   "cell_type": "code",
   "execution_count": 15,
   "id": "050ad1c7",
   "metadata": {},
   "outputs": [],
   "source": [
    "# Padrões de Regex\n",
    "\n",
    "# Regex Data\n",
    "data = '([0-2][0-9]|(3)[0-1])(\\/|\\.)(((0)[0-9])|((1)[0-2]))(\\/|\\.)\\d{2,4}'\n",
    "\n",
    "# Regex quebra de linha\n",
    "quebra = '[\\n\\r]'\n",
    "\n",
    "# Regex dinheiro\n",
    "dinheiro = \"[R]{0,1}\\$[ ]{0,}\\d+(,|\\.)\\d+\"\n",
    "\n",
    "# Regex Caracteres especiais\n",
    "coracao = '<3'\n",
    "\n",
    "# Regex Caracteres especiais\n",
    "numeros = '[0-9]+'"
   ]
  },
  {
   "cell_type": "code",
   "execution_count": 16,
   "id": "7fb6577a",
   "metadata": {
    "scrolled": true
   },
   "outputs": [
    {
     "name": "stdout",
     "output_type": "stream",
     "text": [
      "Comentários com data: 258\n",
      "Comentários com quebra: 3890\n",
      "Comentários com dinheiro: 28\n",
      "Comentários com coracao: 6\n",
      "Comentários com números: 4196\n"
     ]
    }
   ],
   "source": [
    "# Verificação REGEX\n",
    "verificacao_regex(df_final, 'review_comment_message',data,'data')\n",
    "verificacao_regex(df_final, 'review_comment_message',quebra,'quebra')\n",
    "verificacao_regex(df_final, 'review_comment_message',dinheiro,'dinheiro')\n",
    "verificacao_regex(df_final, 'review_comment_message',coracao,'coracao')\n",
    "verificacao_regex(df_final, 'review_comment_message',numeros,'números')"
   ]
  },
  {
   "cell_type": "code",
   "execution_count": 17,
   "id": "8531e9e5",
   "metadata": {},
   "outputs": [
    {
     "name": "stdout",
     "output_type": "stream",
     "text": [
      "Comentários com data: 0\n",
      "Comentários com quebra: 0\n",
      "Comentários com dinheiro: 0\n",
      "Comentários com coracao: 0\n",
      "Comentários com números: 0\n"
     ]
    }
   ],
   "source": [
    "# Substituição REGEX\n",
    "df_final['comment_pre'] = sub_regex(df_final, 'review_comment_message',quebra,' ')\n",
    "df_final['comment_pre'] = sub_regex(df_final, 'comment_pre',dinheiro,'valorDinheiro')\n",
    "df_final['comment_pre'] = sub_regex(df_final, 'comment_pre',data,'valorData')\n",
    "df_final['comment_pre'] = sub_regex(df_final, 'comment_pre',coracao,'valorCoracao')\n",
    "df_final['comment_pre'] = sub_regex(df_final, 'comment_pre',numeros,'valorNumero')\n",
    "\n",
    "\n",
    "# Verificação REGEX pós tratamento\n",
    "verificacao_regex(df_final, 'comment_pre',data,'data')\n",
    "verificacao_regex(df_final, 'comment_pre',quebra,'quebra')\n",
    "verificacao_regex(df_final, 'comment_pre',dinheiro,'dinheiro')\n",
    "verificacao_regex(df_final, 'comment_pre',coracao,'coracao')\n",
    "verificacao_regex(df_final, 'comment_pre',numeros,'números')"
   ]
  },
  {
   "cell_type": "markdown",
   "id": "ea9c5c04",
   "metadata": {},
   "source": [
    "## 2.2 Limpeza\n",
    "- Normalização em minúsculo: Evitar que palavras iguais sejam tratadas de formas diferentes\n",
    "- Tratamento da palavra *Não*: A palavra \"não\" é muito importante para análise de comentários e pode aparecer de diversas formas em um texto. Por ser uma stop word ela será tratada para não perder essa informação\n",
    "- Remoção de caracteres especiais: Redução de ruídos\n",
    "- Remoção de acentos: Reduzir variação de erros gramáticais\n",
    "- Remoção de Stopwords: Palavras que adicionam ruído sem agregar informações"
   ]
  },
  {
   "cell_type": "code",
   "execution_count": 18,
   "id": "16c5a39d",
   "metadata": {},
   "outputs": [
    {
     "data": {
      "text/html": [
       "<div>\n",
       "<style scoped>\n",
       "    .dataframe tbody tr th:only-of-type {\n",
       "        vertical-align: middle;\n",
       "    }\n",
       "\n",
       "    .dataframe tbody tr th {\n",
       "        vertical-align: top;\n",
       "    }\n",
       "\n",
       "    .dataframe thead th {\n",
       "        text-align: right;\n",
       "    }\n",
       "</style>\n",
       "<table border=\"1\" class=\"dataframe\">\n",
       "  <thead>\n",
       "    <tr style=\"text-align: right;\">\n",
       "      <th></th>\n",
       "      <th>order_id</th>\n",
       "      <th>product_category_name</th>\n",
       "      <th>review_score</th>\n",
       "      <th>review_comment_message</th>\n",
       "      <th>target</th>\n",
       "      <th>comment_pre</th>\n",
       "    </tr>\n",
       "  </thead>\n",
       "  <tbody>\n",
       "    <tr>\n",
       "      <th>0</th>\n",
       "      <td>658677c97b385a9be170737859d3511b</td>\n",
       "      <td>ferramentas_jardim</td>\n",
       "      <td>5</td>\n",
       "      <td>Recebi bem antes do prazo estipulado.</td>\n",
       "      <td>1</td>\n",
       "      <td>recebi bem antes do prazo estipulado.</td>\n",
       "    </tr>\n",
       "    <tr>\n",
       "      <th>1</th>\n",
       "      <td>8e6bfb81e283fa7e4f11123a3fb894f1</td>\n",
       "      <td>esporte_lazer</td>\n",
       "      <td>5</td>\n",
       "      <td>Parabéns lojas lannister adorei comprar pela Internet seguro e prático Parabéns a todos feliz Páscoa</td>\n",
       "      <td>1</td>\n",
       "      <td>parabéns lojas lannister adorei comprar pela internet seguro e prático parabéns a todos feliz páscoa</td>\n",
       "    </tr>\n",
       "  </tbody>\n",
       "</table>\n",
       "</div>"
      ],
      "text/plain": [
       "                           order_id product_category_name  review_score  \\\n",
       "0  658677c97b385a9be170737859d3511b    ferramentas_jardim             5   \n",
       "1  8e6bfb81e283fa7e4f11123a3fb894f1         esporte_lazer             5   \n",
       "\n",
       "                                                                                 review_comment_message  \\\n",
       "0                                                                 Recebi bem antes do prazo estipulado.   \n",
       "1  Parabéns lojas lannister adorei comprar pela Internet seguro e prático Parabéns a todos feliz Páscoa   \n",
       "\n",
       "   target  \\\n",
       "0       1   \n",
       "1       1   \n",
       "\n",
       "                                                                                            comment_pre  \n",
       "0                                                                 recebi bem antes do prazo estipulado.  \n",
       "1  parabéns lojas lannister adorei comprar pela internet seguro e prático parabéns a todos feliz páscoa  "
      ]
     },
     "execution_count": 18,
     "metadata": {},
     "output_type": "execute_result"
    }
   ],
   "source": [
    "# Minúsculo\n",
    "df_final['comment_pre'] = df_final['comment_pre'].str.lower()\n",
    "df_final.head(2)"
   ]
  },
  {
   "cell_type": "code",
   "execution_count": 19,
   "id": "cdbfddc3",
   "metadata": {},
   "outputs": [
    {
     "name": "stdout",
     "output_type": "stream",
     "text": [
      "Comentários com nao: 9829\n",
      "Comentários com nao: 0\n"
     ]
    }
   ],
   "source": [
    "#Tratamento da palavra NÃO\n",
    "nao = '([nN][ãÃaA][oO]|[ñÑ]| [nN] )'\n",
    "\n",
    "verificacao_regex(df_final, 'comment_pre',nao,'nao')\n",
    "df_final['comment_pre'] = sub_regex(df_final, 'comment_pre',nao,'valorNegacao')\n",
    "verificacao_regex(df_final, 'comment_pre',nao,'nao')"
   ]
  },
  {
   "cell_type": "code",
   "execution_count": 20,
   "id": "ccc51edd",
   "metadata": {},
   "outputs": [
    {
     "data": {
      "text/html": [
       "<div>\n",
       "<style scoped>\n",
       "    .dataframe tbody tr th:only-of-type {\n",
       "        vertical-align: middle;\n",
       "    }\n",
       "\n",
       "    .dataframe tbody tr th {\n",
       "        vertical-align: top;\n",
       "    }\n",
       "\n",
       "    .dataframe thead th {\n",
       "        text-align: right;\n",
       "    }\n",
       "</style>\n",
       "<table border=\"1\" class=\"dataframe\">\n",
       "  <thead>\n",
       "    <tr style=\"text-align: right;\">\n",
       "      <th></th>\n",
       "      <th>order_id</th>\n",
       "      <th>product_category_name</th>\n",
       "      <th>review_score</th>\n",
       "      <th>review_comment_message</th>\n",
       "      <th>target</th>\n",
       "      <th>comment_pre</th>\n",
       "    </tr>\n",
       "  </thead>\n",
       "  <tbody>\n",
       "    <tr>\n",
       "      <th>11</th>\n",
       "      <td>0ce9a24111d850192a933fcaab6fbad3</td>\n",
       "      <td>cama_mesa_banho</td>\n",
       "      <td>1</td>\n",
       "      <td>Não gostei ! Comprei gato por lebre</td>\n",
       "      <td>0</td>\n",
       "      <td>valorNegacao gostei ! comprei gato por lebre</td>\n",
       "    </tr>\n",
       "    <tr>\n",
       "      <th>12</th>\n",
       "      <td>68e55ca79d04a79f20d4bfc0146f4b66</td>\n",
       "      <td>relogios_presentes</td>\n",
       "      <td>1</td>\n",
       "      <td>Sempre compro pela Internet e a entrega ocorre antes do prazo combinado, que acredito ser o prazo máximo. No stark o prazo máximo já se esgotou e ainda não recebi o produto.</td>\n",
       "      <td>0</td>\n",
       "      <td>sempre compro pela internet e a entrega ocorre antes do prazo combinado, que acredito ser o prazo máximo. no stark o prazo máximo já se esgotou e ainda valorNegacao recebi o produto.</td>\n",
       "    </tr>\n",
       "    <tr>\n",
       "      <th>35</th>\n",
       "      <td>97d2f8fe76f2f253b8291e17b5383884</td>\n",
       "      <td>automotivo</td>\n",
       "      <td>1</td>\n",
       "      <td>O produto não chegou no prazo estipulado e causou transtorno, pq programei a viagem de férias do meu filho, baseado no prazo. Moro na Bahia e ele em Cuiabá sozinho. Agora, a casa está vazia.</td>\n",
       "      <td>0</td>\n",
       "      <td>o produto valorNegacao chegou no prazo estipulado e causou transtorno, pq programei a viagem de férias do meu filho, baseado no prazo. moro na bahia e ele em cuiabá sozinho. agora, a casa está vazia.</td>\n",
       "    </tr>\n",
       "    <tr>\n",
       "      <th>39</th>\n",
       "      <td>34e6d418f368f8079ae152bc178bc66a</td>\n",
       "      <td>beleza_saude</td>\n",
       "      <td>3</td>\n",
       "      <td>Produto bom, porém o que veio para mim não condiz com a foto do anúncio.</td>\n",
       "      <td>0</td>\n",
       "      <td>produto bom, porém o que veio para mim valorNegacao condiz com a foto do anúncio.</td>\n",
       "    </tr>\n",
       "    <tr>\n",
       "      <th>52</th>\n",
       "      <td>b8702f50a689621ab21ef200b55a5b8d</td>\n",
       "      <td>informatica_acessorios</td>\n",
       "      <td>3</td>\n",
       "      <td>Produto chegou, mas meu PC não conseguiu reconhecer as portas USB.</td>\n",
       "      <td>0</td>\n",
       "      <td>produto chegou, mas meu pc valorNegacao conseguiu reconhecer as portas usb.</td>\n",
       "    </tr>\n",
       "    <tr>\n",
       "      <th>...</th>\n",
       "      <td>...</td>\n",
       "      <td>...</td>\n",
       "      <td>...</td>\n",
       "      <td>...</td>\n",
       "      <td>...</td>\n",
       "      <td>...</td>\n",
       "    </tr>\n",
       "    <tr>\n",
       "      <th>48127</th>\n",
       "      <td>a7db1b7bfec5e83a8fd33625e99f0d15</td>\n",
       "      <td>relogios_presentes</td>\n",
       "      <td>1</td>\n",
       "      <td>Ate hoje dia 21/10/2017 o pedido não foi entregue,\\r\\nquando e a PROPIA AMERICANA ,isto não acontece,\\r\\njá deveria ser entregue\\r\\no site para rastrear NAO FUNCIONA\\r\\nEsta venda e de 3ros ,péssima\\r\\nmaria cd</td>\n",
       "      <td>0</td>\n",
       "      <td>ate hoje dia valordata o pedido valorNegacao foi entregue,  quando e a propia americana ,isto valorNegacao acontece,  já deveria ser entregue  o site para rastrear valorNegacao funciona  esta venda e de valornumeroros ,péssima  maria cd</td>\n",
       "    </tr>\n",
       "    <tr>\n",
       "      <th>48144</th>\n",
       "      <td>c46f950813dd2dd9bab4188dceb83175</td>\n",
       "      <td>bebes</td>\n",
       "      <td>1</td>\n",
       "      <td>Boa tarde. \\r\\nNão recebo todos os produtos falta o bebe conforto e a base dele.\\r\\n\\r\\nAguardo posicionamento\\r\\n\\r\\nGrato</td>\n",
       "      <td>0</td>\n",
       "      <td>boa tarde.   valorNegacao recebo todos os produtos falta o bebe conforto e a base dele.    aguardo posicionamento    grato</td>\n",
       "    </tr>\n",
       "    <tr>\n",
       "      <th>48160</th>\n",
       "      <td>18ed848509774f56cc8c1c0a1903ad7f</td>\n",
       "      <td>construcao_ferramentas_construcao</td>\n",
       "      <td>2</td>\n",
       "      <td>Tive um problema na entrega em que o correio colocou no site como entregue dia 19/02 mais nao tinha entregue tentei contato com lannister e a loja em questao e impossivel por fone nem resposta tive</td>\n",
       "      <td>0</td>\n",
       "      <td>tive um problema na entrega em que o correio colocou no site como entregue dia valornumero/valornumero mais valorNegacao tinha entregue tentei contato com lannister e a loja em questao e impossivel por fone nem resposta tive</td>\n",
       "    </tr>\n",
       "    <tr>\n",
       "      <th>48163</th>\n",
       "      <td>d5cb12269711bd1eaf7eed8fd32a7c95</td>\n",
       "      <td>telefonia</td>\n",
       "      <td>3</td>\n",
       "      <td>O produto não foi enviado com NF, não existe venda sem NF, com certeza fico no aguardo do envio da NF podendo ser por e-mail.</td>\n",
       "      <td>0</td>\n",
       "      <td>o produto valorNegacao foi enviado com nf, valorNegacao existe venda sem nf, com certeza fico no aguardo do envio da nf podendo ser por e-mail.</td>\n",
       "    </tr>\n",
       "    <tr>\n",
       "      <th>48165</th>\n",
       "      <td>90531360ecb1eec2a1fbb265a0db0508</td>\n",
       "      <td>informatica_acessorios</td>\n",
       "      <td>1</td>\n",
       "      <td>meu produto chegou e ja tenho que devolver, pois está com defeito , não segurar carga</td>\n",
       "      <td>0</td>\n",
       "      <td>meu produto chegou e ja tenho que devolver, pois está com defeito , valorNegacao segurar carga</td>\n",
       "    </tr>\n",
       "  </tbody>\n",
       "</table>\n",
       "<p>9829 rows × 6 columns</p>\n",
       "</div>"
      ],
      "text/plain": [
       "                               order_id              product_category_name  \\\n",
       "11     0ce9a24111d850192a933fcaab6fbad3                    cama_mesa_banho   \n",
       "12     68e55ca79d04a79f20d4bfc0146f4b66                 relogios_presentes   \n",
       "35     97d2f8fe76f2f253b8291e17b5383884                         automotivo   \n",
       "39     34e6d418f368f8079ae152bc178bc66a                       beleza_saude   \n",
       "52     b8702f50a689621ab21ef200b55a5b8d             informatica_acessorios   \n",
       "...                                 ...                                ...   \n",
       "48127  a7db1b7bfec5e83a8fd33625e99f0d15                 relogios_presentes   \n",
       "48144  c46f950813dd2dd9bab4188dceb83175                              bebes   \n",
       "48160  18ed848509774f56cc8c1c0a1903ad7f  construcao_ferramentas_construcao   \n",
       "48163  d5cb12269711bd1eaf7eed8fd32a7c95                          telefonia   \n",
       "48165  90531360ecb1eec2a1fbb265a0db0508             informatica_acessorios   \n",
       "\n",
       "       review_score  \\\n",
       "11                1   \n",
       "12                1   \n",
       "35                1   \n",
       "39                3   \n",
       "52                3   \n",
       "...             ...   \n",
       "48127             1   \n",
       "48144             1   \n",
       "48160             2   \n",
       "48163             3   \n",
       "48165             1   \n",
       "\n",
       "                                                                                                                                                                                                   review_comment_message  \\\n",
       "11                                                                                                                                                                                    Não gostei ! Comprei gato por lebre   \n",
       "12                                          Sempre compro pela Internet e a entrega ocorre antes do prazo combinado, que acredito ser o prazo máximo. No stark o prazo máximo já se esgotou e ainda não recebi o produto.   \n",
       "35                        O produto não chegou no prazo estipulado e causou transtorno, pq programei a viagem de férias do meu filho, baseado no prazo. Moro na Bahia e ele em Cuiabá sozinho. Agora, a casa está vazia.    \n",
       "39                                                                                                                                               Produto bom, porém o que veio para mim não condiz com a foto do anúncio.   \n",
       "52                                                                                                                                                     Produto chegou, mas meu PC não conseguiu reconhecer as portas USB.   \n",
       "...                                                                                                                                                                                                                   ...   \n",
       "48127  Ate hoje dia 21/10/2017 o pedido não foi entregue,\\r\\nquando e a PROPIA AMERICANA ,isto não acontece,\\r\\njá deveria ser entregue\\r\\no site para rastrear NAO FUNCIONA\\r\\nEsta venda e de 3ros ,péssima\\r\\nmaria cd   \n",
       "48144                                                                                         Boa tarde. \\r\\nNão recebo todos os produtos falta o bebe conforto e a base dele.\\r\\n\\r\\nAguardo posicionamento\\r\\n\\r\\nGrato   \n",
       "48160               Tive um problema na entrega em que o correio colocou no site como entregue dia 19/02 mais nao tinha entregue tentei contato com lannister e a loja em questao e impossivel por fone nem resposta tive   \n",
       "48163                                                                                       O produto não foi enviado com NF, não existe venda sem NF, com certeza fico no aguardo do envio da NF podendo ser por e-mail.   \n",
       "48165                                                                                                                               meu produto chegou e ja tenho que devolver, pois está com defeito , não segurar carga   \n",
       "\n",
       "       target  \\\n",
       "11          0   \n",
       "12          0   \n",
       "35          0   \n",
       "39          0   \n",
       "52          0   \n",
       "...       ...   \n",
       "48127       0   \n",
       "48144       0   \n",
       "48160       0   \n",
       "48163       0   \n",
       "48165       0   \n",
       "\n",
       "                                                                                                                                                                                                                                        comment_pre  \n",
       "11                                                                                                                                                                                                     valorNegacao gostei ! comprei gato por lebre  \n",
       "12                                                           sempre compro pela internet e a entrega ocorre antes do prazo combinado, que acredito ser o prazo máximo. no stark o prazo máximo já se esgotou e ainda valorNegacao recebi o produto.  \n",
       "35                                         o produto valorNegacao chegou no prazo estipulado e causou transtorno, pq programei a viagem de férias do meu filho, baseado no prazo. moro na bahia e ele em cuiabá sozinho. agora, a casa está vazia.   \n",
       "39                                                                                                                                                                produto bom, porém o que veio para mim valorNegacao condiz com a foto do anúncio.  \n",
       "52                                                                                                                                                                      produto chegou, mas meu pc valorNegacao conseguiu reconhecer as portas usb.  \n",
       "...                                                                                                                                                                                                                                             ...  \n",
       "48127  ate hoje dia valordata o pedido valorNegacao foi entregue,  quando e a propia americana ,isto valorNegacao acontece,  já deveria ser entregue  o site para rastrear valorNegacao funciona  esta venda e de valornumeroros ,péssima  maria cd  \n",
       "48144                                                                                                                    boa tarde.   valorNegacao recebo todos os produtos falta o bebe conforto e a base dele.    aguardo posicionamento    grato  \n",
       "48160              tive um problema na entrega em que o correio colocou no site como entregue dia valornumero/valornumero mais valorNegacao tinha entregue tentei contato com lannister e a loja em questao e impossivel por fone nem resposta tive  \n",
       "48163                                                                                               o produto valorNegacao foi enviado com nf, valorNegacao existe venda sem nf, com certeza fico no aguardo do envio da nf podendo ser por e-mail.  \n",
       "48165                                                                                                                                                meu produto chegou e ja tenho que devolver, pois está com defeito , valorNegacao segurar carga  \n",
       "\n",
       "[9829 rows x 6 columns]"
      ]
     },
     "execution_count": 20,
     "metadata": {},
     "output_type": "execute_result"
    }
   ],
   "source": [
    "df_final[df_final['comment_pre'].str.contains('valorNegacao')]"
   ]
  },
  {
   "cell_type": "code",
   "execution_count": 21,
   "id": "8607f59b",
   "metadata": {},
   "outputs": [
    {
     "data": {
      "text/html": [
       "<div>\n",
       "<style scoped>\n",
       "    .dataframe tbody tr th:only-of-type {\n",
       "        vertical-align: middle;\n",
       "    }\n",
       "\n",
       "    .dataframe tbody tr th {\n",
       "        vertical-align: top;\n",
       "    }\n",
       "\n",
       "    .dataframe thead th {\n",
       "        text-align: right;\n",
       "    }\n",
       "</style>\n",
       "<table border=\"1\" class=\"dataframe\">\n",
       "  <thead>\n",
       "    <tr style=\"text-align: right;\">\n",
       "      <th></th>\n",
       "      <th>order_id</th>\n",
       "      <th>product_category_name</th>\n",
       "      <th>review_score</th>\n",
       "      <th>review_comment_message</th>\n",
       "      <th>target</th>\n",
       "      <th>comment_pre</th>\n",
       "    </tr>\n",
       "  </thead>\n",
       "  <tbody>\n",
       "    <tr>\n",
       "      <th>0</th>\n",
       "      <td>658677c97b385a9be170737859d3511b</td>\n",
       "      <td>ferramentas_jardim</td>\n",
       "      <td>5</td>\n",
       "      <td>Recebi bem antes do prazo estipulado.</td>\n",
       "      <td>1</td>\n",
       "      <td>recebi bem antes do prazo estipulado</td>\n",
       "    </tr>\n",
       "    <tr>\n",
       "      <th>1</th>\n",
       "      <td>8e6bfb81e283fa7e4f11123a3fb894f1</td>\n",
       "      <td>esporte_lazer</td>\n",
       "      <td>5</td>\n",
       "      <td>Parabéns lojas lannister adorei comprar pela Internet seguro e prático Parabéns a todos feliz Páscoa</td>\n",
       "      <td>1</td>\n",
       "      <td>parabéns lojas lannister adorei comprar pela internet seguro e prático parabéns a todos feliz páscoa</td>\n",
       "    </tr>\n",
       "  </tbody>\n",
       "</table>\n",
       "</div>"
      ],
      "text/plain": [
       "                           order_id product_category_name  review_score  \\\n",
       "0  658677c97b385a9be170737859d3511b    ferramentas_jardim             5   \n",
       "1  8e6bfb81e283fa7e4f11123a3fb894f1         esporte_lazer             5   \n",
       "\n",
       "                                                                                 review_comment_message  \\\n",
       "0                                                                 Recebi bem antes do prazo estipulado.   \n",
       "1  Parabéns lojas lannister adorei comprar pela Internet seguro e prático Parabéns a todos feliz Páscoa   \n",
       "\n",
       "   target  \\\n",
       "0       1   \n",
       "1       1   \n",
       "\n",
       "                                                                                            comment_pre  \n",
       "0                                                                 recebi bem antes do prazo estipulado   \n",
       "1  parabéns lojas lannister adorei comprar pela internet seguro e prático parabéns a todos feliz páscoa  "
      ]
     },
     "execution_count": 21,
     "metadata": {},
     "output_type": "execute_result"
    }
   ],
   "source": [
    "# Remoção de Caracteres especiais\n",
    "df_final['comment_pre'] = sub_regex(df_final, 'comment_pre','\\W',' ')\n",
    "df_final.head(2)"
   ]
  },
  {
   "cell_type": "code",
   "execution_count": 22,
   "id": "cd38d886",
   "metadata": {},
   "outputs": [
    {
     "data": {
      "text/html": [
       "<div>\n",
       "<style scoped>\n",
       "    .dataframe tbody tr th:only-of-type {\n",
       "        vertical-align: middle;\n",
       "    }\n",
       "\n",
       "    .dataframe tbody tr th {\n",
       "        vertical-align: top;\n",
       "    }\n",
       "\n",
       "    .dataframe thead th {\n",
       "        text-align: right;\n",
       "    }\n",
       "</style>\n",
       "<table border=\"1\" class=\"dataframe\">\n",
       "  <thead>\n",
       "    <tr style=\"text-align: right;\">\n",
       "      <th></th>\n",
       "      <th>order_id</th>\n",
       "      <th>product_category_name</th>\n",
       "      <th>review_score</th>\n",
       "      <th>review_comment_message</th>\n",
       "      <th>target</th>\n",
       "      <th>comment_pre</th>\n",
       "    </tr>\n",
       "  </thead>\n",
       "  <tbody>\n",
       "    <tr>\n",
       "      <th>0</th>\n",
       "      <td>658677c97b385a9be170737859d3511b</td>\n",
       "      <td>ferramentas_jardim</td>\n",
       "      <td>5</td>\n",
       "      <td>Recebi bem antes do prazo estipulado.</td>\n",
       "      <td>1</td>\n",
       "      <td>recebi bem antes do prazo estipulado</td>\n",
       "    </tr>\n",
       "    <tr>\n",
       "      <th>1</th>\n",
       "      <td>8e6bfb81e283fa7e4f11123a3fb894f1</td>\n",
       "      <td>esporte_lazer</td>\n",
       "      <td>5</td>\n",
       "      <td>Parabéns lojas lannister adorei comprar pela Internet seguro e prático Parabéns a todos feliz Páscoa</td>\n",
       "      <td>1</td>\n",
       "      <td>parabens lojas lannister adorei comprar pela internet seguro e pratico parabens a todos feliz pascoa</td>\n",
       "    </tr>\n",
       "  </tbody>\n",
       "</table>\n",
       "</div>"
      ],
      "text/plain": [
       "                           order_id product_category_name  review_score  \\\n",
       "0  658677c97b385a9be170737859d3511b    ferramentas_jardim             5   \n",
       "1  8e6bfb81e283fa7e4f11123a3fb894f1         esporte_lazer             5   \n",
       "\n",
       "                                                                                 review_comment_message  \\\n",
       "0                                                                 Recebi bem antes do prazo estipulado.   \n",
       "1  Parabéns lojas lannister adorei comprar pela Internet seguro e prático Parabéns a todos feliz Páscoa   \n",
       "\n",
       "   target  \\\n",
       "0       1   \n",
       "1       1   \n",
       "\n",
       "                                                                                            comment_pre  \n",
       "0                                                                 recebi bem antes do prazo estipulado   \n",
       "1  parabens lojas lannister adorei comprar pela internet seguro e pratico parabens a todos feliz pascoa  "
      ]
     },
     "execution_count": 22,
     "metadata": {},
     "output_type": "execute_result"
    }
   ],
   "source": [
    "# Remoção de acentuação\n",
    "df_final['comment_pre'] = [unidecode.unidecode(texto) for texto in df_final['comment_pre']]\n",
    "df_final.head(2)"
   ]
  },
  {
   "cell_type": "code",
   "execution_count": 23,
   "id": "14d21dfa",
   "metadata": {},
   "outputs": [
    {
     "data": {
      "text/html": [
       "<div>\n",
       "<style scoped>\n",
       "    .dataframe tbody tr th:only-of-type {\n",
       "        vertical-align: middle;\n",
       "    }\n",
       "\n",
       "    .dataframe tbody tr th {\n",
       "        vertical-align: top;\n",
       "    }\n",
       "\n",
       "    .dataframe thead th {\n",
       "        text-align: right;\n",
       "    }\n",
       "</style>\n",
       "<table border=\"1\" class=\"dataframe\">\n",
       "  <thead>\n",
       "    <tr style=\"text-align: right;\">\n",
       "      <th></th>\n",
       "      <th>order_id</th>\n",
       "      <th>product_category_name</th>\n",
       "      <th>review_score</th>\n",
       "      <th>review_comment_message</th>\n",
       "      <th>target</th>\n",
       "      <th>comment_pre</th>\n",
       "    </tr>\n",
       "  </thead>\n",
       "  <tbody>\n",
       "    <tr>\n",
       "      <th>0</th>\n",
       "      <td>658677c97b385a9be170737859d3511b</td>\n",
       "      <td>ferramentas_jardim</td>\n",
       "      <td>5</td>\n",
       "      <td>Recebi bem antes do prazo estipulado.</td>\n",
       "      <td>1</td>\n",
       "      <td>recebi bem antes prazo estipulado</td>\n",
       "    </tr>\n",
       "    <tr>\n",
       "      <th>1</th>\n",
       "      <td>8e6bfb81e283fa7e4f11123a3fb894f1</td>\n",
       "      <td>esporte_lazer</td>\n",
       "      <td>5</td>\n",
       "      <td>Parabéns lojas lannister adorei comprar pela Internet seguro e prático Parabéns a todos feliz Páscoa</td>\n",
       "      <td>1</td>\n",
       "      <td>parabens lojas lannister adorei comprar internet seguro pratico parabens todos feliz pascoa</td>\n",
       "    </tr>\n",
       "  </tbody>\n",
       "</table>\n",
       "</div>"
      ],
      "text/plain": [
       "                           order_id product_category_name  review_score  \\\n",
       "0  658677c97b385a9be170737859d3511b    ferramentas_jardim             5   \n",
       "1  8e6bfb81e283fa7e4f11123a3fb894f1         esporte_lazer             5   \n",
       "\n",
       "                                                                                 review_comment_message  \\\n",
       "0                                                                 Recebi bem antes do prazo estipulado.   \n",
       "1  Parabéns lojas lannister adorei comprar pela Internet seguro e prático Parabéns a todos feliz Páscoa   \n",
       "\n",
       "   target  \\\n",
       "0       1   \n",
       "1       1   \n",
       "\n",
       "                                                                                   comment_pre  \n",
       "0                                                            recebi bem antes prazo estipulado  \n",
       "1  parabens lojas lannister adorei comprar internet seguro pratico parabens todos feliz pascoa  "
      ]
     },
     "execution_count": 23,
     "metadata": {},
     "output_type": "execute_result"
    }
   ],
   "source": [
    "# Lista StopWords\n",
    "stop = nltk.corpus.stopwords.words('portuguese')           \n",
    "\n",
    "# Remoção de StopWords\n",
    "df_final['comment_pre'] = [' '.join(palavra for palavra in comentario.split() if palavra not in stop) for comentario in df_final['comment_pre']]\n",
    "df_final.head(2)"
   ]
  },
  {
   "cell_type": "markdown",
   "id": "7120974a",
   "metadata": {},
   "source": [
    "## 2.3 Stemming\n",
    "Stemming é uma técnica utilizada para reduzir uma palavra ao seu radical, de modo que todas as variações das palavras possam ser representadas da mesma forma. Embora essa redução possa reduzir a palavra a uma classe gramatical incorreta, ela é muito usada na classificação de documentos pois foca no sentido geral de um texto ao invés do seu significado mais profundo."
   ]
  },
  {
   "cell_type": "code",
   "execution_count": 24,
   "id": "cd08482c",
   "metadata": {},
   "outputs": [
    {
     "data": {
      "text/html": [
       "<div>\n",
       "<style scoped>\n",
       "    .dataframe tbody tr th:only-of-type {\n",
       "        vertical-align: middle;\n",
       "    }\n",
       "\n",
       "    .dataframe tbody tr th {\n",
       "        vertical-align: top;\n",
       "    }\n",
       "\n",
       "    .dataframe thead th {\n",
       "        text-align: right;\n",
       "    }\n",
       "</style>\n",
       "<table border=\"1\" class=\"dataframe\">\n",
       "  <thead>\n",
       "    <tr style=\"text-align: right;\">\n",
       "      <th></th>\n",
       "      <th>order_id</th>\n",
       "      <th>product_category_name</th>\n",
       "      <th>review_score</th>\n",
       "      <th>review_comment_message</th>\n",
       "      <th>target</th>\n",
       "      <th>comment_pre</th>\n",
       "    </tr>\n",
       "  </thead>\n",
       "  <tbody>\n",
       "    <tr>\n",
       "      <th>0</th>\n",
       "      <td>658677c97b385a9be170737859d3511b</td>\n",
       "      <td>ferramentas_jardim</td>\n",
       "      <td>5</td>\n",
       "      <td>Recebi bem antes do prazo estipulado.</td>\n",
       "      <td>1</td>\n",
       "      <td>receb bem ant praz estipul</td>\n",
       "    </tr>\n",
       "    <tr>\n",
       "      <th>1</th>\n",
       "      <td>8e6bfb81e283fa7e4f11123a3fb894f1</td>\n",
       "      <td>esporte_lazer</td>\n",
       "      <td>5</td>\n",
       "      <td>Parabéns lojas lannister adorei comprar pela Internet seguro e prático Parabéns a todos feliz Páscoa</td>\n",
       "      <td>1</td>\n",
       "      <td>parab loj lannist ador compr internet segur pra parab tod feliz pasco</td>\n",
       "    </tr>\n",
       "  </tbody>\n",
       "</table>\n",
       "</div>"
      ],
      "text/plain": [
       "                           order_id product_category_name  review_score  \\\n",
       "0  658677c97b385a9be170737859d3511b    ferramentas_jardim             5   \n",
       "1  8e6bfb81e283fa7e4f11123a3fb894f1         esporte_lazer             5   \n",
       "\n",
       "                                                                                 review_comment_message  \\\n",
       "0                                                                 Recebi bem antes do prazo estipulado.   \n",
       "1  Parabéns lojas lannister adorei comprar pela Internet seguro e prático Parabéns a todos feliz Páscoa   \n",
       "\n",
       "   target  \\\n",
       "0       1   \n",
       "1       1   \n",
       "\n",
       "                                                             comment_pre  \n",
       "0                                             receb bem ant praz estipul  \n",
       "1  parab loj lannist ador compr internet segur pra parab tod feliz pasco  "
      ]
     },
     "execution_count": 24,
     "metadata": {},
     "output_type": "execute_result"
    }
   ],
   "source": [
    "# Stemming\n",
    "stemmer = nltk.RSLPStemmer()\n",
    "\n",
    "df_final['comment_pre'] = [' '.join(stemmer.stem(palavra) for palavra in comentario.split()) for comentario in df_final['comment_pre']]\n",
    "df_final.head(2)"
   ]
  },
  {
   "cell_type": "markdown",
   "id": "a784391e",
   "metadata": {},
   "source": [
    "# 3. Vetorização\n",
    "Será utilizado a técnica de TF-IDF na vetorização dos dados. O TF-IDF se baseia na ponderação dos termos mais comuns usados em um documento em relação aos demais. Considerando que caso uma palavra aparece várias vezes em um documento e poucas nos demais ela tem uma importância maior no documento analisado, esse método tem como foco identificar a relevância das palavras no texto. O cálculo do TF-IDF é dado por\n",
    "\n",
    "\n",
    "$$TF=\\frac{\\text{Frequencia da palavra no documento}}{\\text{Total de palavras no documento}}$$\n",
    "\n",
    "\n",
    "\n",
    "$$IDF = \\log\\left({\\frac{\\text{Número total de documentos}}{\\text{Número total de documentos com a palavra}}}\\right)$$\n",
    "\n",
    "\n",
    "\n",
    "$$TF,IDF = TF*IDF $$\n",
    "\n",
    "Para não adicionar um bias no modelo, os dados serão separados em treino e teste antes da vetorização"
   ]
  },
  {
   "cell_type": "code",
   "execution_count": 25,
   "id": "768552d2",
   "metadata": {},
   "outputs": [
    {
     "name": "stdout",
     "output_type": "stream",
     "text": [
      "Dados de Treino: 33068\n",
      "Dados de Teste: 8268\n"
     ]
    }
   ],
   "source": [
    "X_train, X_test, y_train, y_test = train_test_split(df_final[['comment_pre']], df_final['target'], test_size=.20, random_state=42)\n",
    "\n",
    "# Verifying results\n",
    "print(f'Dados de Treino: {len(X_train)}')\n",
    "print(f'Dados de Teste: {len(X_test)}')"
   ]
  },
  {
   "cell_type": "code",
   "execution_count": 26,
   "id": "5629bae5",
   "metadata": {},
   "outputs": [
    {
     "name": "stdout",
     "output_type": "stream",
     "text": [
      "X_train: 33068\n",
      "y_train: 33068\n"
     ]
    }
   ],
   "source": [
    "tfidf = TfidfVectorizer(max_features=300, min_df=7, max_df=0.8)\n",
    "\n",
    "tfidf_X_train = tfidf.fit_transform(X_train.comment_pre).toarray()\n",
    "\n",
    "print(f'X_train: {len(tfidf_X_train)}')\n",
    "print(f'y_train: {len(y_train)}')"
   ]
  },
  {
   "cell_type": "code",
   "execution_count": 27,
   "id": "8e5c2207",
   "metadata": {},
   "outputs": [
    {
     "name": "stdout",
     "output_type": "stream",
     "text": [
      "X_test: 8268\n",
      "y_test: 8268\n"
     ]
    }
   ],
   "source": [
    "tfidf_X_test = tfidf.transform(X_test.comment_pre.values).toarray()\n",
    "print(f'X_test: {len(tfidf_X_test)}')\n",
    "print(f'y_test: {len(y_test)}')"
   ]
  },
  {
   "cell_type": "markdown",
   "id": "d229ff10",
   "metadata": {},
   "source": [
    "# 4. Machine Learning"
   ]
  },
  {
   "cell_type": "code",
   "execution_count": 28,
   "id": "01bda1d3",
   "metadata": {},
   "outputs": [],
   "source": [
    "# Função para treinar modelo Regressão Logistica\n",
    "def training_model (modelo,train_features, train_target, grid_params, num_folds = 5):\n",
    "    model = GridSearchCV(\n",
    "        estimator=modelo,\n",
    "        param_grid=grid_params,\n",
    "        cv=num_folds,\n",
    "        scoring=\"accuracy\"\n",
    "    )\n",
    "\n",
    "    model.fit(train_features, train_target)\n",
    "\n",
    "    print(f'Melhores parametros: {model.best_params_}')\n",
    "    print(f'Acurácia: {round(model.best_score_,3)}')\n",
    "    return model.best_estimator_"
   ]
  },
  {
   "cell_type": "markdown",
   "id": "f5f813b9",
   "metadata": {},
   "source": [
    "## 4.1 [Gaussian Naive Bayes](https://scikit-learn.org/stable/modules/generated/sklearn.naive_bayes.GaussianNB.html#sklearn-naive-bayes-gaussiannb)"
   ]
  },
  {
   "cell_type": "code",
   "execution_count": 29,
   "id": "2acdbf39",
   "metadata": {},
   "outputs": [
    {
     "name": "stdout",
     "output_type": "stream",
     "text": [
      "Melhores parametros: {}\n",
      "Acurácia: 0.834\n",
      "Tempo de treinamento: 2.33 s\n"
     ]
    }
   ],
   "source": [
    "# Regressão Logistica - Hiperparâmetros\n",
    "GNB_grid_params = {}\n",
    "\n",
    "# Treinando modelo\n",
    "t_i = time.time()\n",
    "GNB = training_model(GaussianNB(),tfidf_X_train, y_train, GNB_grid_params)\n",
    "t_f = time.time() - t_i\n",
    "print(f'Tempo de treinamento: {round(t_f,2)} s')"
   ]
  },
  {
   "cell_type": "code",
   "execution_count": 30,
   "id": "4dc3e68c",
   "metadata": {},
   "outputs": [
    {
     "data": {
      "text/plain": [
       "<sklearn.metrics._plot.confusion_matrix.ConfusionMatrixDisplay at 0x1b23f50e190>"
      ]
     },
     "execution_count": 30,
     "metadata": {},
     "output_type": "execute_result"
    },
    {
     "data": {
      "image/png": "[encoded data removed]",
      "text/plain": [
       "<Figure size 432x288 with 2 Axes>"
      ]
     },
     "metadata": {
      "needs_background": "light"
     },
     "output_type": "display_data"
    }
   ],
   "source": [
    "y_pred_GNB = GNB.predict(tfidf_X_test)\n",
    "\n",
    "# Matriz de confusão\n",
    "disp = ConfusionMatrixDisplay(confusion_matrix=confusion_matrix(y_test, y_pred_GNB), display_labels=['Negativo', 'Positivo'])\n",
    "disp.plot()"
   ]
  },
  {
   "cell_type": "code",
   "execution_count": 31,
   "id": "8ac326fb",
   "metadata": {},
   "outputs": [
    {
     "name": "stdout",
     "output_type": "stream",
     "text": [
      "Acuracia de Teste: 0.833\n"
     ]
    }
   ],
   "source": [
    "# Acuracia de teste\n",
    "print(f'Acuracia de Teste: {round(accuracy_score(y_test, y_pred_GNB),3)}')"
   ]
  },
  {
   "cell_type": "code",
   "execution_count": 32,
   "id": "49617307",
   "metadata": {},
   "outputs": [
    {
     "name": "stdout",
     "output_type": "stream",
     "text": [
      "              precision    recall  f1-score   support\n",
      "\n",
      "           0       0.75      0.80      0.77      2930\n",
      "           1       0.89      0.85      0.87      5338\n",
      "\n",
      "    accuracy                           0.83      8268\n",
      "   macro avg       0.82      0.83      0.82      8268\n",
      "weighted avg       0.84      0.83      0.83      8268\n",
      "\n"
     ]
    }
   ],
   "source": [
    "# Classification Report\n",
    "print(classification_report(y_test, y_pred_GNB))"
   ]
  },
  {
   "cell_type": "markdown",
   "id": "b4440c5a",
   "metadata": {},
   "source": [
    "## 4.2 [Regressão Logística](https://scikit-learn.org/stable/modules/generated/sklearn.linear_model.LogisticRegression.html)"
   ]
  },
  {
   "cell_type": "code",
   "execution_count": 33,
   "id": "de0e45d0",
   "metadata": {},
   "outputs": [
    {
     "name": "stdout",
     "output_type": "stream",
     "text": [
      "Melhores parametros: {'C': 10.0, 'class_weight': None, 'penalty': 'l2', 'random_state': 42, 'solver': 'liblinear'}\n",
      "Acurácia: 0.887\n",
      "Tempo de treinamento: 35.15 s\n"
     ]
    }
   ],
   "source": [
    "# Regressão Logistica - Hiperparâmetros\n",
    "LR_grid_params = {\n",
    "    'penalty': ['l1', 'l2'],\n",
    "    'C': np.linspace(0.1, 10, 5),\n",
    "    'class_weight': ['balanced', None],\n",
    "    'solver': ['liblinear'],\n",
    "    'random_state':[42]}\n",
    "\n",
    "# Treinando modelo\n",
    "t_i = time.time()\n",
    "Log_reg = training_model(LogisticRegression(),tfidf_X_train, y_train, LR_grid_params)\n",
    "t_f = time.time() - t_i\n",
    "print(f'Tempo de treinamento: {round(t_f,2)} s')"
   ]
  },
  {
   "cell_type": "code",
   "execution_count": 34,
   "id": "c92ed221",
   "metadata": {},
   "outputs": [
    {
     "data": {
      "text/plain": [
       "<sklearn.metrics._plot.confusion_matrix.ConfusionMatrixDisplay at 0x1b24bdab7c0>"
      ]
     },
     "execution_count": 34,
     "metadata": {},
     "output_type": "execute_result"
    },
    {
     "data": {
      "image/png": "[encoded data removed]",
      "text/plain": [
       "<Figure size 432x288 with 2 Axes>"
      ]
     },
     "metadata": {
      "needs_background": "light"
     },
     "output_type": "display_data"
    }
   ],
   "source": [
    "y_pred_LR = Log_reg.predict(tfidf_X_test)\n",
    "\n",
    "# Matriz de confusão\n",
    "disp = ConfusionMatrixDisplay(confusion_matrix=confusion_matrix(y_test, y_pred_LR), display_labels=['Negativo', 'Positivo'])\n",
    "disp.plot()"
   ]
  },
  {
   "cell_type": "code",
   "execution_count": 35,
   "id": "86091936",
   "metadata": {},
   "outputs": [
    {
     "name": "stdout",
     "output_type": "stream",
     "text": [
      "Acuracia de Teste: 0.888\n"
     ]
    }
   ],
   "source": [
    "# Acuracia de teste\n",
    "print(f'Acuracia de Teste: {round(accuracy_score(y_test, y_pred_LR),3)}')"
   ]
  },
  {
   "cell_type": "code",
   "execution_count": 36,
   "id": "d06c9e12",
   "metadata": {},
   "outputs": [
    {
     "name": "stdout",
     "output_type": "stream",
     "text": [
      "              precision    recall  f1-score   support\n",
      "\n",
      "           0       0.84      0.85      0.84      2930\n",
      "           1       0.92      0.91      0.91      5338\n",
      "\n",
      "    accuracy                           0.89      8268\n",
      "   macro avg       0.88      0.88      0.88      8268\n",
      "weighted avg       0.89      0.89      0.89      8268\n",
      "\n"
     ]
    }
   ],
   "source": [
    "# Classification Report\n",
    "print(classification_report(y_test, y_pred_LR))"
   ]
  },
  {
   "cell_type": "markdown",
   "id": "fdec7dfe",
   "metadata": {},
   "source": [
    "## 4.3 [SGDClassifier](https://scikit-learn.org/stable/modules/generated/sklearn.linear_model.SGDClassifier.html)"
   ]
  },
  {
   "cell_type": "code",
   "execution_count": 37,
   "id": "36b13426",
   "metadata": {},
   "outputs": [
    {
     "name": "stdout",
     "output_type": "stream",
     "text": [
      "Melhores parametros: {'alpha': 0.0001, 'loss': 'log', 'max_iter': 1000, 'penalty': 'l1', 'random_state': 42}\n",
      "Acurácia: 0.888\n",
      "Tempo de treinamento: 106.04 s\n"
     ]
    }
   ],
   "source": [
    "# SGDClassifier - Hiperparâmetros\n",
    "SGD_grid_params = {\n",
    "    'penalty':['l2','l1'],\n",
    "    'alpha': np.logspace(-6, -2, 5),\n",
    "    'loss':['log'],  \n",
    "    'max_iter':[1000],\n",
    "    'random_state':[42]}\n",
    "\n",
    "# Treinando modelo\n",
    "t_i = time.time()\n",
    "SGD = training_model(SGDClassifier(), tfidf_X_train, y_train, SGD_grid_params)\n",
    "t_f = time.time() - t_i\n",
    "\n",
    "print(f'Tempo de treinamento: {round(t_f,2)} s')"
   ]
  },
  {
   "cell_type": "code",
   "execution_count": 38,
   "id": "83aa03ba",
   "metadata": {},
   "outputs": [
    {
     "data": {
      "text/plain": [
       "<sklearn.metrics._plot.confusion_matrix.ConfusionMatrixDisplay at 0x1b24be351f0>"
      ]
     },
     "execution_count": 38,
     "metadata": {},
     "output_type": "execute_result"
    },
    {
     "data": {
      "image/png": "[encoded data removed]",
      "text/plain": [
       "<Figure size 432x288 with 2 Axes>"
      ]
     },
     "metadata": {
      "needs_background": "light"
     },
     "output_type": "display_data"
    }
   ],
   "source": [
    "y_pred_SGD = SGD.predict(tfidf_X_test)\n",
    "\n",
    "# Matriz de confusão\n",
    "disp = ConfusionMatrixDisplay(confusion_matrix=confusion_matrix(y_test, y_pred_SGD), display_labels=['Negativo', 'Positivo'])\n",
    "disp.plot()"
   ]
  },
  {
   "cell_type": "code",
   "execution_count": 39,
   "id": "067ff157",
   "metadata": {},
   "outputs": [
    {
     "name": "stdout",
     "output_type": "stream",
     "text": [
      "Acuracia de Teste: 0.887\n"
     ]
    }
   ],
   "source": [
    "# Acuracia de teste\n",
    "print(f'Acuracia de Teste: {round(accuracy_score(y_test, y_pred_SGD),3)}')"
   ]
  },
  {
   "cell_type": "code",
   "execution_count": 40,
   "id": "76451681",
   "metadata": {
    "scrolled": true
   },
   "outputs": [
    {
     "name": "stdout",
     "output_type": "stream",
     "text": [
      "              precision    recall  f1-score   support\n",
      "\n",
      "           0       0.84      0.85      0.84      2930\n",
      "           1       0.92      0.91      0.91      5338\n",
      "\n",
      "    accuracy                           0.89      8268\n",
      "   macro avg       0.88      0.88      0.88      8268\n",
      "weighted avg       0.89      0.89      0.89      8268\n",
      "\n"
     ]
    }
   ],
   "source": [
    "# Classification Report\n",
    "print(classification_report(y_test, y_pred_SGD))"
   ]
  },
  {
   "cell_type": "markdown",
   "id": "1614b90a",
   "metadata": {},
   "source": [
    "# 5 Conclusão\n",
    "\n",
    "## 5.1 Discussão de resultados\n",
    "\n",
    "Modelo | Acuracia Treino | Acuracia Teste | Tempo de treinamento (s)\n",
    ":---------: | :------: | :-------: | :-------:\n",
    "Gaussian Naive Bayes | 0.834 | 0.833 | 2.33\n",
    "Logistic Regression  | 0.887 | 0.888 | 35.15\n",
    "SGD Classifier       | 0.888 | 0.887 | 106.04\n",
    "\n",
    "\n",
    "Os modelos *LogisticRegression* e *SGDClassifier* apresentaram um resultado semelhante, obtendo 89% de acurácia tanto em treino quanto em teste. Os modelos acertam mais para os comentários positivos, possivelmente devido ao desbalancemanto das classes. Embora utilizado um volume de hiperparâmetros parecidos, o *LogisticRegression* apresentou um tempo de treinamento inferior. \n",
    "O Gaussian Naive Bayes obteve uma acurácia inferior (83%), porém foi o menor tempo de treinamento\n",
    "\n",
    "## 5.2 Próximos passos\n",
    "- Testar outrar técnicas de vetorização (Bag of N-Grams)\n",
    "- Testar outros modelos de classificação (Ensemble Learning, redes neurais)"
   ]
  },
  {
   "cell_type": "code",
   "execution_count": null,
   "id": "a10c460c",
   "metadata": {},
   "outputs": [],
   "source": []
  }
 ],
 "metadata": {
  "kernelspec": {
   "display_name": "Python 3",
   "language": "python",
   "name": "python3"
  },
  "language_info": {
   "codemirror_mode": {
    "name": "ipython",
    "version": 3
   },
   "file_extension": ".py",
   "mimetype": "text/x-python",
   "name": "python",
   "nbconvert_exporter": "python",
   "pygments_lexer": "ipython3",
   "version": "3.8.8"
  }
 },
 "nbformat": 4,
 "nbformat_minor": 5
}
